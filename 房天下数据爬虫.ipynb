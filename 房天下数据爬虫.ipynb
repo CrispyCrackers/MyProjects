{
 "cells": [
  {
   "cell_type": "markdown",
   "metadata": {},
   "source": [
    "# 房天下数据爬虫\n",
    "## 1. import 相关的包"
   ]
  },
  {
   "cell_type": "code",
   "execution_count": null,
   "metadata": {
    "collapsed": true
   },
   "outputs": [],
   "source": [
    "import requests, bs4, os\n",
    "import re\n",
    "import openpyxl"
   ]
  },
  {
   "cell_type": "markdown",
   "metadata": {},
   "source": [
    "## 2. 使用requests获取数据并保存"
   ]
  },
  {
   "cell_type": "code",
   "execution_count": null,
   "metadata": {
    "collapsed": true
   },
   "outputs": [],
   "source": [
    "front = r'http://newhouse.cq.fang.com'\n",
    "after = r'/house/s/b91'\n",
    "url = front + after\n",
    "\n",
    "for i in range(38):\n",
    "    res = requests.get(url)\n",
    "    res.raise_for_status()\n",
    "    res.encoding = 'gbk'\n",
    "    filename = 'page{}'.format(str(i)) + '.txt'\n",
    "    with open(filename, 'wb') as f:\n",
    "        for i in res.iter_content(100000):\n",
    "            f.write(i)`\n",
    "    soup = bs4.BeautifulSoup(res.text, 'lxml')\n",
    "    nex = soup.select('.next')\n",
    "    url = front + nex[0].get('href')"
   ]
  },
  {
   "cell_type": "markdown",
   "metadata": {},
   "source": [
    "## 3. 使用bs4读取数据，提取相关信息"
   ]
  },
  {
   "cell_type": "code",
   "execution_count": null,
   "metadata": {
    "collapsed": true
   },
   "outputs": [],
   "source": [
    "wb = openpyxl.load_workbook('data.xlsx')\n",
    "sheet = wb.get_active_sheet()\n",
    "\n",
    "for i in range(38):\n",
    "    f = open('page'+str(i)+'.txt', 'r')\n",
    "    soup = bs4.BeautifulSoup(f.read(), 'lxml')\n",
    "    selected = soup.select('.nlc_details')\n",
    "    data = {}\n",
    "    n = len(selected)\n",
    "    for m in range(n):\n",
    "        try:\n",
    "            a = selected[m].select('.nlcd_name a')[0].getText()\n",
    "            a = re.search(re.compile(r'\\w+'), a).group()\n",
    "            data.setdefault('A', a)\n",
    "        except:\n",
    "            data.setdefault('A', 'na')\n",
    "        \n",
    "        try:\n",
    "            b = selected[m].select('.address a')[0].getText()\n",
    "            b = re.search(re.compile(r'\\[.+\\]'), b).group()\n",
    "            b = b[1:-1]\n",
    "            data.setdefault('B', b)\n",
    "        except:\n",
    "            data.setdefault('B', 'na')\n",
    "\n",
    "        try:\n",
    "            c = selected[m].select('.nhouse_price')[0].getText()\n",
    "            c = re.search(re.compile(r'\\d+'), c).group()\n",
    "            if len(c) > 3:\n",
    "                data.setdefault('C', int(c))\n",
    "            else:\n",
    "                e = selected[m].select('.house_type')[0].getText()\n",
    "                e = re.search(re.compile(r'\\d+~\\d+平米'), e).group()\n",
    "                # print(e)\n",
    "                e = re.search(re.compile(r'\\d+'), e).group()\n",
    "                # print(e)\n",
    "                price = round(int(c + '0000')/int(e))\n",
    "                # print(price)\n",
    "                data.setdefault('C', price)\n",
    "        except:\n",
    "            data = {}\n",
    "            continue\n",
    "\n",
    "        try:\n",
    "            d = selected[m].select('.value_num')[0].getText()\n",
    "            d = re.search(re.compile(r'\\d+'), d).group()\n",
    "            data.setdefault('D', int(d))\n",
    "        except:\n",
    "            data.setdefault('D', 'na')\n",
    "\n",
    "        sheet.append(data)\n",
    "        data = {}\n",
    "\n",
    "wb.save('data1.xlsx')"
   ]
  }
 ],
 "metadata": {
  "kernelspec": {
   "display_name": "Python 3",
   "language": "python",
   "name": "python3"
  },
  "language_info": {
   "codemirror_mode": {
    "name": "ipython",
    "version": 3
   },
   "file_extension": ".py",
   "mimetype": "text/x-python",
   "name": "python",
   "nbconvert_exporter": "python",
   "pygments_lexer": "ipython3",
   "version": "3.6.1"
  }
 },
 "nbformat": 4,
 "nbformat_minor": 2
}
